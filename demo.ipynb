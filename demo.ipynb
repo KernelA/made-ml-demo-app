{
 "cells": [
  {
   "cell_type": "code",
   "execution_count": 1,
   "metadata": {},
   "outputs": [],
   "source": [
    "import os"
   ]
  },
  {
   "cell_type": "code",
   "execution_count": 2,
   "metadata": {},
   "outputs": [],
   "source": [
    "os.chdir(\"made-ml-demo-app-model\")"
   ]
  },
  {
   "cell_type": "code",
   "execution_count": 3,
   "metadata": {},
   "outputs": [],
   "source": [
    "import json\n",
    "import pathlib\n",
    "import pickle\n",
    "import random\n",
    "\n",
    "import ipywidgets as widgets\n",
    "from ipywidgets import interact, interactive, fixed, interact_manual\n",
    "import torch\n",
    "import trimesh\n",
    "import numpy as np\n",
    "from trimesh import creation\n",
    "from torch_geometric.data  import Batch\n",
    "from torch_geometric import utils\n",
    "from pytransform3d.transformations import random_transform\n",
    "\n",
    "from point_cloud_cls import SimpleClsLDGCN, BaseTransform\n",
    "from train_param import DataParams"
   ]
  },
  {
   "cell_type": "code",
   "execution_count": 4,
   "metadata": {},
   "outputs": [],
   "source": [
    "label_encoder_dump_filepath = pathlib.Path(\"inference-data\", \"label_encoder\", \"label_encoder.pickle\")"
   ]
  },
  {
   "cell_type": "code",
   "execution_count": 5,
   "metadata": {},
   "outputs": [],
   "source": [
    "with open(label_encoder_dump_filepath, \"rb\") as dump_file:\n",
    "    label_encoder = pickle.load(dump_file)"
   ]
  },
  {
   "cell_type": "code",
   "execution_count": 6,
   "metadata": {},
   "outputs": [],
   "source": [
    "path_to_model_config = pathlib.Path(\"inference-data\", \"model\", \"model_params.json\")"
   ]
  },
  {
   "cell_type": "code",
   "execution_count": 7,
   "metadata": {},
   "outputs": [],
   "source": [
    "with open(path_to_model_config, \"r\") as _model_params_file:\n",
    "    model_params = json.load(_model_params_file)"
   ]
  },
  {
   "cell_type": "code",
   "execution_count": 8,
   "metadata": {},
   "outputs": [],
   "source": [
    "cls_model = SimpleClsLDGCN(**model_params)"
   ]
  },
  {
   "cell_type": "code",
   "execution_count": 9,
   "metadata": {},
   "outputs": [],
   "source": [
    "del model_params"
   ]
  },
  {
   "cell_type": "code",
   "execution_count": 10,
   "metadata": {},
   "outputs": [],
   "source": [
    "path_to_checkpoint = pathlib.Path(\"inference-data\", \"model\", \"model_state.pth\")"
   ]
  },
  {
   "cell_type": "code",
   "execution_count": 11,
   "metadata": {},
   "outputs": [],
   "source": [
    "device = \"cpu\""
   ]
  },
  {
   "cell_type": "code",
   "execution_count": 12,
   "metadata": {},
   "outputs": [],
   "source": [
    "inference_transform = BaseTransform(DataParams().num_points)"
   ]
  },
  {
   "cell_type": "code",
   "execution_count": 13,
   "metadata": {},
   "outputs": [],
   "source": [
    "cls_model.load_state_dict(torch.load(path_to_checkpoint, map_location=device))\n",
    "cls_model.eval();"
   ]
  },
  {
   "cell_type": "code",
   "execution_count": 14,
   "metadata": {},
   "outputs": [
    {
     "data": {
      "text/plain": [
       "array(['cone', 'cube', 'cylinder', 'plane', 'torus', 'uv_sphere'],\n",
       "      dtype='<U9')"
      ]
     },
     "execution_count": 14,
     "metadata": {},
     "output_type": "execute_result"
    }
   ],
   "source": [
    "label_encoder.classes_"
   ]
  },
  {
   "cell_type": "code",
   "execution_count": 15,
   "metadata": {},
   "outputs": [],
   "source": [
    "def cone_generator(transform):\n",
    "    radius = random.uniform(0.2, 2)\n",
    "    height = random.uniform(1, 3)\n",
    "    return creation.cone(radius, height, transform=transform)\n",
    "\n",
    "def cube_generator(transform):\n",
    "    size = random.uniform(0.1, 2)\n",
    "    return creation.box((size, size, size), transform=transform)\n",
    "\n",
    "def cylinder_generator(transform):\n",
    "    radius = random.uniform(0.2, 2)\n",
    "    height = random.uniform(1, 3)\n",
    "    return creation.cylinder(radius, height, transform=transform)\n",
    "\n",
    "def plane_generator(transform):\n",
    "    vertices = np.array(\n",
    "        (\n",
    "            (1, 1, 0), (-1, 1, 0), (-1, -1, 0), (1, -1, 0)\n",
    "        )\n",
    "    )\n",
    "    faces = np.array(\n",
    "        (\n",
    "            (0, 1, 2),\n",
    "            (2, 3, 0)\n",
    "        )\n",
    "    )\n",
    "    plane = trimesh.Trimesh(vertices=vertices, faces=faces)\n",
    "    plane.apply_transform(transform)\n",
    "    return plane\n",
    "\n",
    "def sphere_generator(transform):\n",
    "    radius = random.uniform(1, 10)\n",
    "    return creation.icosphere(radius=radius, subdivisions=2)"
   ]
  },
  {
   "cell_type": "code",
   "execution_count": 23,
   "metadata": {},
   "outputs": [],
   "source": [
    "translate_mapping = {\n",
    "    \"cone\": \"конус\",\n",
    "    \"cube\": \"куб\",\n",
    "    \"cylinder\": \"цилиндр\",\n",
    "    \"plane\": \"плоскость\",\n",
    "    \"uv_sphere\": \"сфера\"\n",
    "}\n",
    "\n",
    "generators = {\n",
    "    \"конус\": cone_generator,\n",
    "    \"куб\": cube_generator,\n",
    "    \"цилиндр\": cylinder_generator,\n",
    "    \"плоскость\": plane_generator,\n",
    "    \"сфера\": sphere_generator\n",
    "}"
   ]
  },
  {
   "cell_type": "code",
   "execution_count": 24,
   "metadata": {},
   "outputs": [],
   "source": [
    "model_list = widgets.Dropdown(\n",
    "    options=tuple(generators.keys()),\n",
    "    value=tuple(generators.keys())[0],\n",
    "    description='Выбор 3D примитива:',\n",
    "    disabled=False,\n",
    "    layout={'width': 'max-content'}\n",
    ")"
   ]
  },
  {
   "cell_type": "code",
   "execution_count": 25,
   "metadata": {},
   "outputs": [],
   "source": [
    "def classify_object(mesh, model, transform):\n",
    "    data = utils.from_trimesh(mesh)\n",
    "    batch = Batch.from_data_list([transform(data)])\n",
    "    prediction_score = model.forward(batch)\n",
    "    return prediction_score"
   ]
  },
  {
   "cell_type": "code",
   "execution_count": 33,
   "metadata": {},
   "outputs": [],
   "source": [
    "@torch.no_grad()\n",
    "def generate_primitive(label, \n",
    "                       generator,\n",
    "                       model,\n",
    "                       inf_transform,\n",
    "                       label_encoder,\n",
    "                       translate_mapping: dict):\n",
    "    rotate = random_transform()\n",
    "    rotate[:-1, -1] = 0\n",
    "    mesh = generator[label](rotate)\n",
    "    score = classify_object(mesh, model, inf_transform)\n",
    "    label = label_encoder.inverse_transform(score.argmax(dim=1))\n",
    "    print(translate_mapping[label[0]])\n",
    "    return mesh.show(viewer=\"notebook\")"
   ]
  },
  {
   "cell_type": "code",
   "execution_count": 34,
   "metadata": {},
   "outputs": [
    {
     "data": {
      "application/vnd.jupyter.widget-view+json": {
       "model_id": "f7719cef478447999d6ecade8fb75d4e",
       "version_major": 2,
       "version_minor": 0
      },
      "text/plain": [
       "interactive(children=(Dropdown(description='Выбор 3D примитива:', index=2, layout=Layout(width='max-content'),…"
      ]
     },
     "metadata": {},
     "output_type": "display_data"
    },
    {
     "data": {
      "text/plain": [
       "<function __main__.generate_primitive(label, generator, model, inf_transform, label_encoder, translate_mapping: dict)>"
      ]
     },
     "execution_count": 34,
     "metadata": {},
     "output_type": "execute_result"
    }
   ],
   "source": [
    "interact_manual(generate_primitive\n",
    "                , label=model_list\n",
    "                , generator=fixed(generators)\n",
    "                , model=fixed(cls_model)\n",
    "                , inf_transform=fixed(inference_transform)\n",
    "                , label_encoder=fixed(label_encoder)\n",
    "                , translate_mapping=fixed(translate_mapping))"
   ]
  },
  {
   "cell_type": "code",
   "execution_count": null,
   "metadata": {},
   "outputs": [],
   "source": []
  }
 ],
 "metadata": {
  "kernelspec": {
   "display_name": "Python 3",
   "language": "python",
   "name": "python3"
  },
  "language_info": {
   "codemirror_mode": {
    "name": "ipython",
    "version": 3
   },
   "file_extension": ".py",
   "mimetype": "text/x-python",
   "name": "python",
   "nbconvert_exporter": "python",
   "pygments_lexer": "ipython3",
   "version": "3.7.9"
  }
 },
 "nbformat": 4,
 "nbformat_minor": 4
}
