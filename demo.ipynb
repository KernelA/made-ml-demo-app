{
 "cells": [
  {
   "cell_type": "code",
   "execution_count": 1,
   "metadata": {},
   "outputs": [],
   "source": [
    "import os"
   ]
  },
  {
   "cell_type": "code",
   "execution_count": 2,
   "metadata": {},
   "outputs": [],
   "source": [
    "os.chdir(\"made-ml-demo-app-model\")"
   ]
  },
  {
   "cell_type": "code",
   "execution_count": 3,
   "metadata": {},
   "outputs": [],
   "source": [
    "import json\n",
    "import pathlib\n",
    "import pickle\n",
    "import random\n",
    "\n",
    "from IPython.display import display\n",
    "import ipywidgets as widgets \n",
    "import torch\n",
    "import trimesh\n",
    "import numpy as np\n",
    "from trimesh import creation\n",
    "from torch_geometric.data  import Batch\n",
    "from torch_geometric import utils\n",
    "from pytransform3d.transformations import random_transform\n",
    "from matplotlib import pyplot as plt\n",
    "import matplotlib\n",
    "\n",
    "\n",
    "from point_cloud_cls import SimpleClsLDGCN, BaseTransform\n",
    "from train_param import DataParams\n",
    "\n",
    "%matplotlib inline\n",
    "\n",
    "\n",
    "matplotlib.rcParams[\"figure.figsize\"] = (10, 10)\n",
    "matplotlib.rcParams[\"font.size\"] = 16"
   ]
  },
  {
   "cell_type": "code",
   "execution_count": 4,
   "metadata": {},
   "outputs": [],
   "source": [
    "label_encoder_dump_filepath = pathlib.Path(\"inference-data\", \"label_encoder\", \"label_encoder.pickle\")"
   ]
  },
  {
   "cell_type": "code",
   "execution_count": 5,
   "metadata": {},
   "outputs": [],
   "source": [
    "with open(label_encoder_dump_filepath, \"rb\") as dump_file:\n",
    "    label_encoder = pickle.load(dump_file)"
   ]
  },
  {
   "cell_type": "code",
   "execution_count": 6,
   "metadata": {},
   "outputs": [],
   "source": [
    "path_to_model_config = pathlib.Path(\"inference-data\", \"model\", \"model_params.json\")"
   ]
  },
  {
   "cell_type": "code",
   "execution_count": 7,
   "metadata": {},
   "outputs": [],
   "source": [
    "with open(path_to_model_config, \"r\") as _model_params_file:\n",
    "    model_params = json.load(_model_params_file)"
   ]
  },
  {
   "cell_type": "code",
   "execution_count": 8,
   "metadata": {},
   "outputs": [],
   "source": [
    "cls_model = SimpleClsLDGCN(**model_params)"
   ]
  },
  {
   "cell_type": "code",
   "execution_count": 9,
   "metadata": {},
   "outputs": [],
   "source": [
    "del model_params"
   ]
  },
  {
   "cell_type": "code",
   "execution_count": 10,
   "metadata": {},
   "outputs": [],
   "source": [
    "path_to_checkpoint = pathlib.Path(\"inference-data\", \"model\", \"model_state.pth\")"
   ]
  },
  {
   "cell_type": "code",
   "execution_count": 11,
   "metadata": {},
   "outputs": [],
   "source": [
    "device = \"cpu\""
   ]
  },
  {
   "cell_type": "code",
   "execution_count": 12,
   "metadata": {},
   "outputs": [],
   "source": [
    "inference_transform = BaseTransform(DataParams().num_points)"
   ]
  },
  {
   "cell_type": "code",
   "execution_count": 13,
   "metadata": {},
   "outputs": [],
   "source": [
    "cls_model.load_state_dict(torch.load(path_to_checkpoint, map_location=device))\n",
    "cls_model.eval();"
   ]
  },
  {
   "cell_type": "markdown",
   "metadata": {},
   "source": [
    "# Демострация работы приложения для классификации 3D примитивов "
   ]
  },
  {
   "cell_type": "markdown",
   "metadata": {},
   "source": [
    "На основе [PyTorchGeometric](https://github.com/rusty1s/pytorch_geometric) была обучена модель для классификации 3D примитивов."
   ]
  },
  {
   "cell_type": "markdown",
   "metadata": {},
   "source": [
    "В обучениие использовались следующие классы:"
   ]
  },
  {
   "cell_type": "code",
   "execution_count": 14,
   "metadata": {},
   "outputs": [
    {
     "name": "stdout",
     "output_type": "stream",
     "text": [
      "cone\n",
      "cube\n",
      "cylinder\n",
      "plane\n",
      "torus\n",
      "uv_sphere\n"
     ]
    }
   ],
   "source": [
    "print(*label_encoder.classes_, sep=\"\\n\")"
   ]
  },
  {
   "cell_type": "markdown",
   "metadata": {},
   "source": [
    "Все примитивы представлены в виде полигональных моделей. Прежде чем классифицировать примитив он преобразуется в \"облако точек\". Используется следующее число точек, которое случайно выбираются на поверхности примитивов:"
   ]
  },
  {
   "cell_type": "code",
   "execution_count": 15,
   "metadata": {},
   "outputs": [
    {
     "data": {
      "text/plain": [
       "512"
      ]
     },
     "execution_count": 15,
     "metadata": {},
     "output_type": "execute_result"
    }
   ],
   "source": [
    "DataParams().num_points"
   ]
  },
  {
   "cell_type": "code",
   "execution_count": 16,
   "metadata": {},
   "outputs": [],
   "source": [
    "def cone_generator(transform):\n",
    "    radius = random.uniform(0.2, 2)\n",
    "    height = random.uniform(0.2, 4)\n",
    "    return creation.cone(radius, height, transform=transform)\n",
    "\n",
    "def cube_generator(transform):\n",
    "    size = random.uniform(0.1, 2)\n",
    "    return creation.box((size, size, size), transform=transform)\n",
    "\n",
    "def cylinder_generator(transform):\n",
    "    radius = random.uniform(0.2, 2)\n",
    "    height = random.uniform(1, 3)\n",
    "    return creation.cylinder(radius, height, transform=transform)\n",
    "\n",
    "def plane_generator(transform):\n",
    "    vertices = np.array(\n",
    "        (\n",
    "            (1, 1, 0), (-1, 1, 0), (-1, -1, 0), (1, -1, 0)\n",
    "        )\n",
    "    )\n",
    "    faces = np.array(\n",
    "        (\n",
    "            (0, 1, 2),\n",
    "            (2, 3, 0),\n",
    "            (2, 1, 0),\n",
    "            (0, 3, 2)\n",
    "        )\n",
    "    )\n",
    "    plane = trimesh.Trimesh(vertices=vertices, faces=faces)\n",
    "    plane.apply_transform(transform)\n",
    "    return plane\n",
    "\n",
    "def sphere_generator(transform):\n",
    "    radius = random.uniform(1, 10)\n",
    "    return creation.icosphere(radius=radius, subdivisions=2)\n",
    "\n",
    "def torus_generator(transform):\n",
    "    torus_radius = random.uniform(0.1, 5)\n",
    "    dist = random.uniform(torus_radius + 0.1,  torus_radius + 10)\n",
    "    circle = trimesh.path.creation.circle(torus_radius, (dist, 0))\n",
    "    return creation.revolve(circle.discrete[0], transform=transform)"
   ]
  },
  {
   "cell_type": "code",
   "execution_count": 17,
   "metadata": {},
   "outputs": [],
   "source": [
    "translate_mapping = {\n",
    "    \"cone\": \"конус\",\n",
    "    \"cube\": \"куб\",\n",
    "    \"cylinder\": \"цилиндр\",\n",
    "    \"plane\": \"плоскость\",\n",
    "    \"uv_sphere\": \"сфера\",\n",
    "    \"torus\": \"тор\"\n",
    "}\n",
    "\n",
    "generators = {\n",
    "    \"конус\": cone_generator,\n",
    "    \"куб\": cube_generator,\n",
    "    \"цилиндр\": cylinder_generator,\n",
    "    \"плоскость\": plane_generator,\n",
    "    \"сфера\": sphere_generator,\n",
    "    \"тор\": torus_generator\n",
    "}"
   ]
  },
  {
   "cell_type": "code",
   "execution_count": 18,
   "metadata": {},
   "outputs": [],
   "source": [
    "labels = tuple(generators.keys())\n",
    "\n",
    "label_widget = widgets.Label(\"Выбор 3D примитива для классификации:\")\n",
    "\n",
    "model_list_widget = widgets.ToggleButtons(\n",
    "    options=labels,\n",
    "    description='',\n",
    "    disabled=False,\n",
    "    button_style='', # 'success', 'info', 'warning', 'danger' or ''\n",
    ")\n",
    "\n",
    "del labels"
   ]
  },
  {
   "cell_type": "code",
   "execution_count": 19,
   "metadata": {},
   "outputs": [],
   "source": [
    "# material template in Viola does not render dropdown list. ToggleButtons choosed instead\n",
    "primitive_choosing = widgets.GridBox([model_list_widget])"
   ]
  },
  {
   "cell_type": "code",
   "execution_count": 20,
   "metadata": {},
   "outputs": [],
   "source": [
    "header_widget = widgets.VBox([label_widget, primitive_choosing])"
   ]
  },
  {
   "cell_type": "code",
   "execution_count": 21,
   "metadata": {},
   "outputs": [],
   "source": [
    "score = None\n",
    "output_plot_widget = widgets.Output()\n",
    "output_plot_widget.layout.width = \"40%\"\n",
    "output_mesh_widget = widgets.Output()\n",
    "output_mesh_widget.layout.border = \"solid\"\n",
    "output_mesh_widget.layout.width = \"60%\"\n",
    "output_widget = widgets.HBox([output_plot_widget, output_mesh_widget])\n",
    "output_widget.layout.height = \"600px\""
   ]
  },
  {
   "cell_type": "code",
   "execution_count": 22,
   "metadata": {},
   "outputs": [],
   "source": [
    "RED_COLOR = (255, 0, 0)\n",
    "GREEN_COLOR = (0, 255, 0)"
   ]
  },
  {
   "cell_type": "code",
   "execution_count": 23,
   "metadata": {},
   "outputs": [],
   "source": [
    "@torch.no_grad()\n",
    "def classify_object(mesh, model, transform):\n",
    "    data = utils.from_trimesh(mesh)\n",
    "    batch = Batch.from_data_list([transform(data)])\n",
    "    prediction_score = model.forward(batch)\n",
    "    return prediction_score"
   ]
  },
  {
   "cell_type": "code",
   "execution_count": 24,
   "metadata": {},
   "outputs": [],
   "source": [
    "def generate_and_calassify_primitive(label,\n",
    "                       generator,\n",
    "                       model,\n",
    "                       inference_transform,\n",
    "                       label_encoder,\n",
    "                       translate_mapping: dict):\n",
    "    random_transformation = random_transform()\n",
    "    # only rotate\n",
    "    random_transformation[:-1, -1] = 0\n",
    "    mesh = generator[label](random_transformation)\n",
    "    raw_score = classify_object(mesh, model, inference_transform)[0]\n",
    "    pred_label = label_encoder.inverse_transform([raw_score.argmax()])[0]\n",
    "    \n",
    "    if label == translate_mapping[pred_label]:\n",
    "        color = GREEN_COLOR\n",
    "    else:\n",
    "        color = RED_COLOR\n",
    "\n",
    "    mesh.visual = trimesh.visual.ColorVisuals(mesh=mesh, vertex_colors=color)\n",
    "    global score\n",
    "    score = torch.exp(raw_score)\n",
    "    with output_mesh_widget:\n",
    "        display(mesh.show(viewer=\"notebook\", smooth=True))"
   ]
  },
  {
   "cell_type": "code",
   "execution_count": 25,
   "metadata": {},
   "outputs": [],
   "source": [
    "def plot_score(label_encoder, translate_mapping):\n",
    "    x = tuple(range(len(score)))\n",
    "    with output_plot_widget:\n",
    "        plt.bar(x, score, tick_label=tuple(map(lambda x: translate_mapping[x], label_encoder.classes_)))\n",
    "        plt.title(\"Уверенность модели\")\n",
    "        plt.grid(True)\n",
    "        plt.show()"
   ]
  },
  {
   "cell_type": "code",
   "execution_count": 26,
   "metadata": {},
   "outputs": [],
   "source": [
    "classify_button = widgets.Button(\n",
    "    description=\"Классифицировать примитив\",\n",
    "    disabled=False,\n",
    "    tooltip=\"Классифицировать выбранный примитив\",\n",
    "    button_style=\"\"\n",
    ")\n",
    "\n",
    "classify_button.layout.width = \"auto\""
   ]
  },
  {
   "cell_type": "code",
   "execution_count": 27,
   "metadata": {},
   "outputs": [],
   "source": [
    "def calassify_callback(button):\n",
    "    output_plot_widget.clear_output()\n",
    "    output_mesh_widget.clear_output()\n",
    "    generate_and_calassify_primitive(model_list_widget.value\n",
    "                                     , generator=generators\n",
    "                                     , model=cls_model\n",
    "                                     , inference_transform=inference_transform\n",
    "                                     , label_encoder=label_encoder\n",
    "                                     , translate_mapping=translate_mapping)\n",
    "    plot_score(label_encoder, translate_mapping)"
   ]
  },
  {
   "cell_type": "code",
   "execution_count": 28,
   "metadata": {},
   "outputs": [],
   "source": [
    "classify_button.on_click(calassify_callback)"
   ]
  },
  {
   "cell_type": "markdown",
   "metadata": {},
   "source": [
    "# Классификация случайно выбранного примитива "
   ]
  },
  {
   "cell_type": "code",
   "execution_count": 29,
   "metadata": {},
   "outputs": [
    {
     "data": {
      "application/vnd.jupyter.widget-view+json": {
       "model_id": "b91462ebd5b840429fd97babdbb7e593",
       "version_major": 2,
       "version_minor": 0
      },
      "text/plain": [
       "VBox(children=(VBox(children=(Label(value='Выбор 3D примитива для классификации:'), GridBox(children=(ToggleBu…"
      ]
     },
     "metadata": {},
     "output_type": "display_data"
    }
   ],
   "source": [
    "widgets.VBox([header_widget, classify_button, output_widget])"
   ]
  },
  {
   "cell_type": "code",
   "execution_count": null,
   "metadata": {},
   "outputs": [],
   "source": []
  }
 ],
 "metadata": {
  "kernelspec": {
   "display_name": "Python 3",
   "language": "python",
   "name": "python3"
  },
  "language_info": {
   "codemirror_mode": {
    "name": "ipython",
    "version": 3
   },
   "file_extension": ".py",
   "mimetype": "text/x-python",
   "name": "python",
   "nbconvert_exporter": "python",
   "pygments_lexer": "ipython3",
   "version": "3.7.9"
  }
 },
 "nbformat": 4,
 "nbformat_minor": 4
}
