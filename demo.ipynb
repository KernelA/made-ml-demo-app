{
 "cells": [
  {
   "cell_type": "code",
   "execution_count": 1,
   "metadata": {},
   "outputs": [],
   "source": [
    "import os"
   ]
  },
  {
   "cell_type": "code",
   "execution_count": 2,
   "metadata": {},
   "outputs": [],
   "source": [
    "os.chdir(\"made-ml-demo-app-model\")"
   ]
  },
  {
   "cell_type": "code",
   "execution_count": 3,
   "metadata": {},
   "outputs": [],
   "source": [
    "import json\n",
    "import pathlib\n",
    "import pickle\n",
    "import random\n",
    "\n",
    "from IPython.display import display\n",
    "import ipywidgets as widgets \n",
    "import torch\n",
    "import trimesh\n",
    "import umap\n",
    "import numpy as np\n",
    "from trimesh import creation\n",
    "from torch_geometric.data  import Batch\n",
    "from torch_geometric import utils\n",
    "from pytransform3d.transformations import random_transform\n",
    "from sklearn.preprocessing import LabelEncoder, StandardScaler\n",
    "import plotly.graph_objects as go\n",
    "\n",
    "from point_cloud_cls import SimpleClsLDGCN, BaseTransform\n",
    "from train_param import DataParams"
   ]
  },
  {
   "cell_type": "code",
   "execution_count": 4,
   "metadata": {},
   "outputs": [],
   "source": [
    "label_encoder_dump_filepath = pathlib.Path(\"inference-data\", \"label_encoder\", \"label_encoder.pickle\")"
   ]
  },
  {
   "cell_type": "code",
   "execution_count": 5,
   "metadata": {},
   "outputs": [],
   "source": [
    "with open(label_encoder_dump_filepath, \"rb\") as dump_file:\n",
    "    label_encoder = pickle.load(dump_file)"
   ]
  },
  {
   "cell_type": "code",
   "execution_count": 6,
   "metadata": {},
   "outputs": [],
   "source": [
    "path_to_model_config = pathlib.Path(\"inference-data\", \"model\", \"model_params.json\")"
   ]
  },
  {
   "cell_type": "code",
   "execution_count": 7,
   "metadata": {},
   "outputs": [],
   "source": [
    "with open(path_to_model_config, \"r\") as _model_params_file:\n",
    "    model_params = json.load(_model_params_file)"
   ]
  },
  {
   "cell_type": "code",
   "execution_count": 8,
   "metadata": {},
   "outputs": [],
   "source": [
    "cls_model = SimpleClsLDGCN(**model_params)"
   ]
  },
  {
   "cell_type": "code",
   "execution_count": 9,
   "metadata": {},
   "outputs": [],
   "source": [
    "del model_params"
   ]
  },
  {
   "cell_type": "code",
   "execution_count": 10,
   "metadata": {},
   "outputs": [],
   "source": [
    "path_to_checkpoint = pathlib.Path(\"inference-data\", \"model\", \"model_state.pth\")"
   ]
  },
  {
   "cell_type": "code",
   "execution_count": 11,
   "metadata": {},
   "outputs": [],
   "source": [
    "device = \"cpu\""
   ]
  },
  {
   "cell_type": "code",
   "execution_count": 12,
   "metadata": {},
   "outputs": [],
   "source": [
    "inference_transform = BaseTransform(DataParams().num_points)"
   ]
  },
  {
   "cell_type": "code",
   "execution_count": 13,
   "metadata": {},
   "outputs": [],
   "source": [
    "cls_model.load_state_dict(torch.load(path_to_checkpoint, map_location=device))\n",
    "cls_model.eval();"
   ]
  },
  {
   "cell_type": "markdown",
   "metadata": {},
   "source": [
    "# Демострация работы приложения для классификации 3D примитивов "
   ]
  },
  {
   "cell_type": "markdown",
   "metadata": {},
   "source": [
    "На основе [PyTorchGeometric](https://github.com/rusty1s/pytorch_geometric) была обучена модель для классификации 3D примитивов."
   ]
  },
  {
   "cell_type": "markdown",
   "metadata": {},
   "source": [
    "В обучениие использовались следующие классы:"
   ]
  },
  {
   "cell_type": "code",
   "execution_count": 14,
   "metadata": {},
   "outputs": [
    {
     "name": "stdout",
     "output_type": "stream",
     "text": [
      "cone\n",
      "cube\n",
      "cylinder\n",
      "plane\n",
      "torus\n",
      "uv_sphere\n"
     ]
    }
   ],
   "source": [
    "print(*label_encoder.classes_, sep=\"\\n\")"
   ]
  },
  {
   "cell_type": "markdown",
   "metadata": {},
   "source": [
    "Все примитивы представлены в виде полигональных моделей. Прежде чем классифицировать примитив он преобразуется в \"облако точек\". Используется следующее число точек, которое случайно выбираются на поверхности примитивов:"
   ]
  },
  {
   "cell_type": "code",
   "execution_count": 15,
   "metadata": {},
   "outputs": [
    {
     "data": {
      "text/plain": [
       "512"
      ]
     },
     "execution_count": 15,
     "metadata": {},
     "output_type": "execute_result"
    }
   ],
   "source": [
    "DataParams().num_points"
   ]
  },
  {
   "cell_type": "code",
   "execution_count": 16,
   "metadata": {},
   "outputs": [],
   "source": [
    "def cone_generator(transform):\n",
    "    radius = random.uniform(0.2, 2)\n",
    "    height = random.uniform(0.2, 4)\n",
    "    return creation.cone(radius, height, transform=transform)\n",
    "\n",
    "def cube_generator(transform):\n",
    "    size = random.uniform(0.1, 2)\n",
    "    return creation.box((size, size, size), transform=transform)\n",
    "\n",
    "def cylinder_generator(transform):\n",
    "    radius = random.uniform(0.2, 2)\n",
    "    height = random.uniform(1, 3)\n",
    "    return creation.cylinder(radius, height, transform=transform)\n",
    "\n",
    "def plane_generator(transform):\n",
    "    vertices = np.array(\n",
    "        (\n",
    "            (1, 1, 0), (-1, 1, 0), (-1, -1, 0), (1, -1, 0)\n",
    "        )\n",
    "    )\n",
    "    faces = np.array(\n",
    "        (\n",
    "            (0, 1, 2),\n",
    "            (2, 3, 0),\n",
    "            (2, 1, 0),\n",
    "            (0, 3, 2)\n",
    "        )\n",
    "    )\n",
    "    plane = trimesh.Trimesh(vertices=vertices, faces=faces)\n",
    "    plane.apply_transform(transform)\n",
    "    return plane\n",
    "\n",
    "def sphere_generator(transform):\n",
    "    radius = random.uniform(1, 10)\n",
    "    return creation.icosphere(radius=radius, subdivisions=2)\n",
    "\n",
    "def torus_generator(transform):\n",
    "    torus_radius = random.uniform(0.1, 5)\n",
    "    dist = random.uniform(torus_radius + 0.1,  torus_radius + 10)\n",
    "    circle = trimesh.path.creation.circle(torus_radius, (dist, 0))\n",
    "    return creation.revolve(circle.discrete[0], transform=transform)"
   ]
  },
  {
   "cell_type": "code",
   "execution_count": 17,
   "metadata": {},
   "outputs": [],
   "source": [
    "translate_mapping = {\n",
    "    \"cone\": \"Конус\",\n",
    "    \"cube\": \"Куб\",\n",
    "    \"cylinder\": \"Цилиндр\",\n",
    "    \"plane\": \"Плоскость\",\n",
    "    \"uv_sphere\": \"Сфера\",\n",
    "    \"torus\": \"Тор\"\n",
    "}\n",
    "\n",
    "generators = {\n",
    "    \"Конус\": cone_generator,\n",
    "    \"Куб\": cube_generator,\n",
    "    \"Цилиндр\": cylinder_generator,\n",
    "    \"Плоскость\": plane_generator,\n",
    "    \"Сфера\": sphere_generator,\n",
    "    \"Тор\": torus_generator\n",
    "}"
   ]
  },
  {
   "cell_type": "code",
   "execution_count": 18,
   "metadata": {},
   "outputs": [],
   "source": [
    "labels = tuple(generators.keys())\n",
    "\n",
    "label_widget = widgets.Label(\"Выбор 3D примитива для классификации:\")\n",
    "\n",
    "model_list_widget = widgets.ToggleButtons(\n",
    "    options=labels,\n",
    "    description='',\n",
    "    disabled=False,\n",
    "    button_style='', # 'success', 'info', 'warning', 'danger' or ''\n",
    ")\n",
    "\n",
    "del labels"
   ]
  },
  {
   "cell_type": "code",
   "execution_count": 19,
   "metadata": {},
   "outputs": [],
   "source": [
    "# material template in Viola does not render dropdown list. ToggleButtons choosed instead\n",
    "primitive_choosing = widgets.GridBox([model_list_widget])"
   ]
  },
  {
   "cell_type": "code",
   "execution_count": 20,
   "metadata": {},
   "outputs": [],
   "source": [
    "header_widget = widgets.VBox([label_widget, primitive_choosing])"
   ]
  },
  {
   "cell_type": "code",
   "execution_count": 21,
   "metadata": {},
   "outputs": [],
   "source": [
    "score = None\n",
    "output_plot_widget = go.FigureWidget(layout=go.Layout())\n",
    "output_plot_widget.update_layout(title=\"Степень уверенность модели\")\n",
    "output_mesh_widget = widgets.Output()\n",
    "output_mesh_widget.layout.border = \"solid\"\n",
    "output_mesh_widget.layout.width = \"60%\"\n",
    "output_widget = widgets.HBox([output_plot_widget, output_mesh_widget])\n",
    "output_widget.layout.height = \"600px\""
   ]
  },
  {
   "cell_type": "code",
   "execution_count": 22,
   "metadata": {},
   "outputs": [],
   "source": [
    "RED_COLOR = (255, 0, 0)\n",
    "GREEN_COLOR = (0, 255, 0)"
   ]
  },
  {
   "cell_type": "code",
   "execution_count": 23,
   "metadata": {},
   "outputs": [],
   "source": [
    "@torch.no_grad()\n",
    "def classify_object(mesh, model, transform):\n",
    "    data = utils.from_trimesh(mesh)\n",
    "    batch = Batch.from_data_list([transform(data)])\n",
    "    prediction_score = model.forward(batch)\n",
    "    return prediction_score"
   ]
  },
  {
   "cell_type": "code",
   "execution_count": 24,
   "metadata": {},
   "outputs": [],
   "source": [
    "def generate_and_calassify_primitive(label,\n",
    "                       generator,\n",
    "                       model,\n",
    "                       inference_transform,\n",
    "                       label_encoder,\n",
    "                       translate_mapping: dict):\n",
    "    random_transformation = random_transform()\n",
    "    # only rotate\n",
    "    random_transformation[:-1, -1] = 0\n",
    "    mesh = generator[label](random_transformation)\n",
    "    raw_score = classify_object(mesh, model, inference_transform)[0]\n",
    "    pred_label = label_encoder.inverse_transform([raw_score.argmax()])[0]\n",
    "    \n",
    "    if label == translate_mapping[pred_label]:\n",
    "        color = GREEN_COLOR\n",
    "    else:\n",
    "        color = RED_COLOR\n",
    "\n",
    "    mesh.visual = trimesh.visual.ColorVisuals(mesh=mesh, vertex_colors=color)\n",
    "    global score\n",
    "    score = torch.exp(raw_score)\n",
    "    with output_mesh_widget:\n",
    "        display(mesh.show(viewer=\"notebook\", smooth=True))"
   ]
  },
  {
   "cell_type": "code",
   "execution_count": 25,
   "metadata": {},
   "outputs": [],
   "source": [
    "def plot_score(label_encoder, translate_mapping):\n",
    "    x_labels = tuple(map(lambda x: translate_mapping[x], label_encoder.classes_))\n",
    "    output_plot_widget.data = []\n",
    "    output_plot_widget.add_trace(\n",
    "        go.Bar(x=x_labels, y=score)\n",
    "    )"
   ]
  },
  {
   "cell_type": "code",
   "execution_count": 26,
   "metadata": {},
   "outputs": [],
   "source": [
    "classify_button = widgets.Button(\n",
    "    description=\"Классифицировать примитив\",\n",
    "    disabled=False,\n",
    "    tooltip=\"Классифицировать выбранный примитив\",\n",
    "    button_style=\"\"\n",
    ")\n",
    "\n",
    "classify_button.layout.width = \"auto\""
   ]
  },
  {
   "cell_type": "code",
   "execution_count": 27,
   "metadata": {},
   "outputs": [],
   "source": [
    "def calassify_callback(button):\n",
    "    button.disabled = True\n",
    "    output_mesh_widget.clear_output()\n",
    "    generate_and_calassify_primitive(model_list_widget.value\n",
    "                                     , generator=generators\n",
    "                                     , model=cls_model\n",
    "                                     , inference_transform=inference_transform\n",
    "                                     , label_encoder=label_encoder\n",
    "                                     , translate_mapping=translate_mapping)\n",
    "    plot_score(label_encoder, translate_mapping)\n",
    "    button.disabled = False"
   ]
  },
  {
   "cell_type": "code",
   "execution_count": 28,
   "metadata": {},
   "outputs": [],
   "source": [
    "classify_button.on_click(calassify_callback)"
   ]
  },
  {
   "cell_type": "markdown",
   "metadata": {},
   "source": [
    "# Классификация случайно сгенерированного 3D примитива "
   ]
  },
  {
   "cell_type": "code",
   "execution_count": 29,
   "metadata": {},
   "outputs": [
    {
     "data": {
      "application/vnd.jupyter.widget-view+json": {
       "model_id": "d181029aa9354f51963f2d8c117c749c",
       "version_major": 2,
       "version_minor": 0
      },
      "text/plain": [
       "VBox(children=(VBox(children=(Label(value='Выбор 3D примитива для классификации:'), GridBox(children=(ToggleBu…"
      ]
     },
     "metadata": {},
     "output_type": "display_data"
    }
   ],
   "source": [
    "widgets.VBox([header_widget, classify_button, output_widget])"
   ]
  },
  {
   "cell_type": "markdown",
   "metadata": {},
   "source": [
    "# Визуализация глобальных признаков с помощью UMAP"
   ]
  },
  {
   "cell_type": "markdown",
   "metadata": {},
   "source": [
    "Генерируется заданное количество моделей из каждого класса. Для каждй модели вычисляется вектор глобальных признаков. С поомщью снижения размерности до 2 компонент результат визуализируется с помощью UMAP."
   ]
  },
  {
   "cell_type": "code",
   "execution_count": 30,
   "metadata": {},
   "outputs": [],
   "source": [
    "@torch.no_grad()\n",
    "def get_features(mesh, model, batch):\n",
    "    batch = Batch.from_data_list(batch)\n",
    "    features = model.global_feature(batch)\n",
    "    return features"
   ]
  },
  {
   "cell_type": "code",
   "execution_count": 31,
   "metadata": {},
   "outputs": [],
   "source": [
    "sample_umap_widget = widgets.IntSlider(\n",
    "    value=20,\n",
    "    min=5,\n",
    "    max=100,\n",
    "    step=1,\n",
    "    description=\"\",\n",
    "    disabled=False,\n",
    "    continuous_update=False,\n",
    "    orientation='horizontal',\n",
    "    readout=True,\n",
    "    readout_format='d'\n",
    ")\n",
    "label_sample_umap_widget = widgets.Label(\"Число сгенерированных примитивов для каждого класса:\") \n",
    "header_umap_widget = widgets.HBox([label_sample_umap_widget, sample_umap_widget])"
   ]
  },
  {
   "cell_type": "code",
   "execution_count": 32,
   "metadata": {},
   "outputs": [],
   "source": [
    "progress_widget = widgets.FloatProgress(value=0.0, min=0.0, max=1.0)"
   ]
  },
  {
   "cell_type": "code",
   "execution_count": 33,
   "metadata": {},
   "outputs": [],
   "source": [
    "umap_vis_button = widgets.Button(\n",
    "    description=\"Визуализировать признаки\",\n",
    "    disabled=False,\n",
    "    tooltip=\"Построить визуализацию признаков\",\n",
    "    button_style=\"\"\n",
    ")\n",
    "umap_vis_button.layout.width = \"auto\"\n",
    "l = widgets.jslink((umap_vis_button, \"disabled\"), (classify_button, \"disabled\"))"
   ]
  },
  {
   "cell_type": "code",
   "execution_count": 34,
   "metadata": {},
   "outputs": [],
   "source": [
    "fig = go.FigureWidget(layout=go.Layout());\n",
    "fig.update_layout(title=\"Визуализация признаков с помощью UMAP\");"
   ]
  },
  {
   "cell_type": "code",
   "execution_count": 35,
   "metadata": {},
   "outputs": [],
   "source": [
    "def generate_umap(num_samples: int, primitive_generator, model, inference_transform):\n",
    "    fig.data = []\n",
    "    num_sample = num_samples\n",
    "    features = []\n",
    "    labels = []\n",
    "    \n",
    "    progress_widget.value = 0.1\n",
    "\n",
    "    for label in primitive_generator:\n",
    "        batch = []\n",
    "        for i in range(num_sample):\n",
    "            random_transformation = random_transform()\n",
    "            # only rotate\n",
    "            random_transformation[:-1, -1] = 0\n",
    "            mesh = primitive_generator[label](random_transformation)\n",
    "            batch.append(inference_transform(utils.from_trimesh(mesh)))\n",
    "        \n",
    "        features.extend(get_features(mesh, cls_model, batch).cpu().numpy())\n",
    "        labels.extend(label for _ in range(num_sample))\n",
    "    \n",
    "    progress_widget.value = 0.5\n",
    "        \n",
    "    encoder = LabelEncoder()\n",
    "    colors = encoder.fit_transform(labels)\n",
    "    reducer = umap.UMAP(learning_rate=0.5)\n",
    "    embedding = reducer.fit_transform(StandardScaler().fit_transform(features))\n",
    "    progress_widget.value = 0.75\n",
    "    fig.add_trace(\n",
    "        go.Scatter(\n",
    "            x=embedding[:, 0],\n",
    "            y=embedding[:, 1],\n",
    "            text=labels,\n",
    "            mode=\"markers\",\n",
    "            marker=dict(color=colors)\n",
    "            )\n",
    "    )\n",
    "    progress_widget.value = 1\n",
    "    \n",
    "def umap_gen_callback(button):\n",
    "    button.disabled = True\n",
    "    generate_umap(sample_umap_widget.value, generators, cls_model, inference_transform)\n",
    "    button.disabled = False"
   ]
  },
  {
   "cell_type": "code",
   "execution_count": 36,
   "metadata": {},
   "outputs": [],
   "source": [
    "umap_vis_button.on_click(umap_gen_callback)"
   ]
  },
  {
   "cell_type": "code",
   "execution_count": 37,
   "metadata": {},
   "outputs": [
    {
     "data": {
      "application/vnd.jupyter.widget-view+json": {
       "model_id": "0bbd2b40586e4128a6b840495d2ba569",
       "version_major": 2,
       "version_minor": 0
      },
      "text/plain": [
       "VBox(children=(HBox(children=(Label(value='Число сгенерированных примитивов для каждого класса:'), IntSlider(v…"
      ]
     },
     "metadata": {},
     "output_type": "display_data"
    }
   ],
   "source": [
    "umap_layout = widgets.VBox([header_umap_widget, umap_vis_button, progress_widget, fig])\n",
    "umap_layout"
   ]
  }
 ],
 "metadata": {
  "kernelspec": {
   "display_name": "Python 3",
   "language": "python",
   "name": "python3"
  },
  "language_info": {
   "codemirror_mode": {
    "name": "ipython",
    "version": 3
   },
   "file_extension": ".py",
   "mimetype": "text/x-python",
   "name": "python",
   "nbconvert_exporter": "python",
   "pygments_lexer": "ipython3",
   "version": "3.7.9"
  }
 },
 "nbformat": 4,
 "nbformat_minor": 4
}
